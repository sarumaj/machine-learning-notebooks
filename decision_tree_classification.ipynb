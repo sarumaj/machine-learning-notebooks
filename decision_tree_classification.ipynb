{
 "cells": [
  {
   "cell_type": "code",
   "execution_count": 1,
   "metadata": {},
   "outputs": [],
   "source": [
    "from sklearn.datasets import make_classification\n",
    "from sklearn.ensemble import GradientBoostingClassifier\n",
    "from sklearn.tree import DecisionTreeClassifier\n",
    "from sklearn.metrics import classification_report\n",
    "from sklearn.model_selection import train_test_split\n",
    "import numpy as np"
   ]
  },
  {
   "cell_type": "code",
   "execution_count": 2,
   "metadata": {},
   "outputs": [],
   "source": [
    "# generate a synthetic dataset\n",
    "random_state = np.random.RandomState(0)\n",
    "X, y = make_classification(\n",
    "    n_samples=3000, \n",
    "    n_features=10, \n",
    "    n_informative=2, \n",
    "    flip_y=0.1, \n",
    "    weights=[0.15, 0.85], \n",
    "    random_state=random_state\n",
    ")\n",
    "\n",
    "# split the dataset into training and test sets\n",
    "X_train, X_test, y_train, y_test = train_test_split(\n",
    "    X, y, train_size=0.2, random_state=random_state\n",
    ")"
   ]
  },
  {
   "cell_type": "code",
   "execution_count": 3,
   "metadata": {},
   "outputs": [
    {
     "name": "stdout",
     "output_type": "stream",
     "text": [
      "              precision    recall  f1-score   support\n",
      "\n",
      "           0       0.87      0.72      0.79       439\n",
      "           1       0.94      0.98      0.96      1961\n",
      "\n",
      "    accuracy                           0.93      2400\n",
      "   macro avg       0.90      0.85      0.87      2400\n",
      "weighted avg       0.93      0.93      0.93      2400\n",
      "\n"
     ]
    }
   ],
   "source": [
    "# train a gradient boosting classifier\n",
    "boost = GradientBoostingClassifier(\n",
    "    n_estimators=200, # number of trees\n",
    "    learning_rate=0.1, \n",
    "    max_depth=1, # depth of the trees\n",
    "    random_state=random_state\n",
    ").fit(X_train, y_train)\n",
    "\n",
    "# evaluate the classifier\n",
    "y_pred = boost.predict(X_test)\n",
    "print(classification_report(y_test, y_pred))"
   ]
  },
  {
   "cell_type": "code",
   "execution_count": 4,
   "metadata": {},
   "outputs": [
    {
     "name": "stdout",
     "output_type": "stream",
     "text": [
      "              precision    recall  f1-score   support\n",
      "\n",
      "           0       0.49      0.71      0.58       439\n",
      "           1       0.93      0.84      0.88      1961\n",
      "\n",
      "    accuracy                           0.81      2400\n",
      "   macro avg       0.71      0.77      0.73      2400\n",
      "weighted avg       0.85      0.81      0.83      2400\n",
      "\n"
     ]
    }
   ],
   "source": [
    "# train a decision tree classifier\n",
    "tree = DecisionTreeClassifier(\n",
    "    max_depth=3, \n",
    "    class_weight='balanced'\n",
    ").fit(X_train, y_train)\n",
    "\n",
    "# evaluate the classifier\n",
    "y_pred = tree.predict(X_test)\n",
    "print(classification_report(y_test, y_pred))"
   ]
  }
 ],
 "metadata": {
  "kernelspec": {
   "display_name": ".venv",
   "language": "python",
   "name": "python3"
  },
  "language_info": {
   "codemirror_mode": {
    "name": "ipython",
    "version": 3
   },
   "file_extension": ".py",
   "mimetype": "text/x-python",
   "name": "python",
   "nbconvert_exporter": "python",
   "pygments_lexer": "ipython3",
   "version": "3.11.6"
  }
 },
 "nbformat": 4,
 "nbformat_minor": 2
}
