{
 "cells": [
  {
   "cell_type": "code",
   "execution_count": 1,
   "metadata": {},
   "outputs": [],
   "source": [
    "import numpy as np"
   ]
  },
  {
   "cell_type": "code",
   "execution_count": 2,
   "metadata": {},
   "outputs": [
    {
     "data": {
      "text/plain": [
       "[{'value': 12, 'weight': 15},\n",
       " {'value': 0, 'weight': 3},\n",
       " {'value': 3, 'weight': 7},\n",
       " {'value': 9, 'weight': 19},\n",
       " {'value': 18, 'weight': 4},\n",
       " {'value': 6, 'weight': 12},\n",
       " {'value': 1, 'weight': 6},\n",
       " {'value': 7, 'weight': 14},\n",
       " {'value': 17, 'weight': 5},\n",
       " {'value': 13, 'weight': 8},\n",
       " {'value': 9, 'weight': 19},\n",
       " {'value': 16, 'weight': 19},\n",
       " {'value': 5, 'weight': 15},\n",
       " {'value': 15, 'weight': 0},\n",
       " {'value': 18, 'weight': 3}]"
      ]
     },
     "execution_count": 2,
     "metadata": {},
     "output_type": "execute_result"
    }
   ],
   "source": [
    "KNAPSACK_CAPACITY = 50 # Maximum weight the knapsack can hold\n",
    "POPULATION_SIZE = 20 # Number of individuals in the population\n",
    "MAX_NO_OF_GENERATIONS = 20 # Maximum number of generations\n",
    "NO_OF_ITEMS = 15 # Number of items to be included in the knapsack\n",
    "MAX_ITEM_WEIGHT = 20 # Maximum weight of an item\n",
    "\n",
    "np.random.seed(0)\n",
    "\n",
    "# Generate random items \n",
    "ITEMS = [\n",
    "    {\n",
    "        \"value\": np.random.randint(0, MAX_ITEM_WEIGHT), \n",
    "        \"weight\": np.random.randint(0, MAX_ITEM_WEIGHT)\n",
    "    } for _ in range(NO_OF_ITEMS)\n",
    "]\n",
    "ITEMS"
   ]
  },
  {
   "cell_type": "code",
   "execution_count": 3,
   "metadata": {},
   "outputs": [
    {
     "data": {
      "text/plain": [
       "[[0, 1, 1, 1, 1, 1, 0, 1, 0, 1, 1, 1, 1, 0, 1],\n",
       " [0, 0, 1, 1, 0, 1, 0, 1, 0, 0, 0, 0, 0, 1, 1],\n",
       " [0, 0, 0, 1, 1, 0, 1, 0, 0, 1, 0, 1, 1, 1, 1],\n",
       " [1, 1, 0, 1, 1, 0, 0, 1, 0, 0, 1, 1, 0, 1, 0],\n",
       " [0, 1, 0, 0, 0, 1, 1, 0, 1, 0, 0, 0, 0, 0, 1],\n",
       " [0, 1, 0, 1, 1, 1, 1, 1, 0, 1, 1, 1, 1, 0, 1],\n",
       " [1, 0, 0, 1, 0, 0, 0, 0, 1, 1, 0, 0, 1, 0, 1],\n",
       " [1, 1, 1, 0, 0, 0, 1, 0, 1, 1, 1, 0, 1, 0, 0],\n",
       " [1, 0, 1, 1, 0, 0, 1, 0, 1, 0, 1, 0, 1, 0, 1],\n",
       " [0, 0, 0, 1, 0, 1, 0, 1, 0, 0, 0, 0, 0, 1, 0],\n",
       " [0, 1, 0, 0, 0, 1, 0, 0, 1, 0, 1, 0, 0, 1, 1],\n",
       " [0, 0, 0, 1, 1, 0, 0, 0, 0, 0, 1, 0, 1, 0, 0],\n",
       " [0, 1, 1, 1, 0, 0, 1, 1, 1, 1, 0, 0, 0, 1, 1],\n",
       " [0, 1, 0, 0, 1, 0, 1, 1, 1, 1, 0, 0, 0, 1, 1],\n",
       " [1, 0, 1, 1, 1, 1, 0, 0, 1, 1, 0, 0, 0, 1, 1],\n",
       " [0, 1, 1, 1, 1, 1, 0, 0, 0, 1, 0, 1, 0, 1, 1],\n",
       " [0, 0, 0, 1, 0, 0, 1, 1, 1, 1, 0, 1, 0, 0, 0],\n",
       " [0, 1, 1, 1, 0, 1, 0, 0, 1, 1, 1, 1, 1, 1, 0],\n",
       " [0, 1, 1, 1, 1, 1, 1, 1, 1, 1, 1, 0, 0, 0, 0],\n",
       " [1, 1, 1, 0, 1, 1, 1, 1, 1, 1, 1, 0, 0, 0, 0]]"
      ]
     },
     "execution_count": 3,
     "metadata": {},
     "output_type": "execute_result"
    }
   ],
   "source": [
    "def generate_population(\n",
    "    # Number of individuals in the population\n",
    "    population_size: int,\n",
    "    # Number of items to be included in the knapsack\n",
    "    no_of_items: int \n",
    ") -> list[list[int]]:\n",
    "    \n",
    "    population = []\n",
    "    for _ in range(population_size):\n",
    "        chromosome = list(np.random.randint(0, 2, no_of_items))\n",
    "        population.append(chromosome)\n",
    "\n",
    "    return population\n",
    "\n",
    "# Generate the initial population\n",
    "POPULATION = generate_population(POPULATION_SIZE, NO_OF_ITEMS)\n",
    "POPULATION"
   ]
  },
  {
   "cell_type": "code",
   "execution_count": 4,
   "metadata": {},
   "outputs": [
    {
     "name": "stdout",
     "output_type": "stream",
     "text": [
      "Generation   1, total fitness: -1678, best solution: 010010111100011, fitness:  89\n",
      "Generation   2, total fitness: 1195, best solution: 010010111100011, fitness:  89\n",
      "Generation   3, total fitness: 1780, best solution: 010010111100011, fitness:  89\n",
      "Generation   4, total fitness: 1779, best solution: 010010111100011, fitness:  89\n",
      "Generation   5, total fitness: 1780, best solution: 010010111100011, fitness:  89\n",
      "Generation   6, total fitness: 1717, best solution: 010010111100011, fitness:  89\n",
      "Generation   7, total fitness: 1735, best solution: 010010111100011, fitness:  89\n",
      "Generation   8, total fitness: 1780, best solution: 010010111100011, fitness:  89\n",
      "Generation   9, total fitness: 1767, best solution: 011010111100011, fitness:  92\n",
      "Generation  10, total fitness: 1747, best solution: 011010111100011, fitness:  92\n",
      "Generation  11, total fitness: 1781, best solution: 011010111100011, fitness:  92\n",
      "Generation  12, total fitness: 1840, best solution: 011010111100011, fitness:  92\n",
      "Generation  13, total fitness: 1821, best solution: 011010111100011, fitness:  92\n",
      "Generation  14, total fitness: 1800, best solution: 011010111100011, fitness:  92\n",
      "Generation  15, total fitness: 1720, best solution: 011010111100011, fitness:  92\n",
      "Generation  16, total fitness: 1742, best solution: 011010111100011, fitness:  92\n",
      "Generation  17, total fitness: 1840, best solution: 011010111100011, fitness:  92\n",
      "Generation  18, total fitness: 1840, best solution: 011010111100011, fitness:  92\n",
      "Generation  19, total fitness: 1755, best solution: 011010111100011, fitness:  92\n",
      "Generation  20, total fitness: 1840, best solution: 011010111100011, fitness:  92\n"
     ]
    }
   ],
   "source": [
    "def fitness(\n",
    "    # The chromosome to be evaluated\n",
    "    chromosome: list[int], \n",
    "    # The items to be included in the knapsack\n",
    "    items: list[dict[str, int]], \n",
    "    # The maximum weight the knapsack can hold\n",
    "    knapsack_capacity: int, \n",
    "    # The penalty factor for exceeding the knapsack capacity\n",
    "    penalty_factor: int = 6 \n",
    ") -> int:\n",
    "    \n",
    "    weight = 0\n",
    "    value = 0\n",
    "    for i in range(min(len(chromosome), len(items))):\n",
    "        if chromosome[i] == 1:\n",
    "            weight += items[i][\"weight\"]\n",
    "            value += items[i][\"value\"]\n",
    "\n",
    "    penalty = 0\n",
    "    if weight > knapsack_capacity:\n",
    "        penalty = penalty_factor*(weight - knapsack_capacity)\n",
    "\n",
    "    return value - penalty\n",
    "    \n",
    "def evolve_population(\n",
    "    # The population of chromosomes\n",
    "    population: list[list[int]], \n",
    "    # The percentage of the population that will be taken over without changes\n",
    "    parent_percent: float = 0.2, \n",
    "    # The probability of a gene being mutated\n",
    "    mutation_chance: float = 0.08 \n",
    ") -> list[list[int]]:\n",
    "    \n",
    "    # Select parents\n",
    "    parents = population[:int(parent_percent * len(population))]\n",
    "\n",
    "    # Perform single point crossover\n",
    "    children = []\n",
    "    while len(children) < len(population) - len(parents):\n",
    "        father = parents[np.random.randint(0, len(parents))]\n",
    "        mother = parents[np.random.randint(0, len(parents))]\n",
    "        crossover_point = int(np.random.randint(0, len(father)))\n",
    "        child = father[:crossover_point] + mother[crossover_point:]\n",
    "        children.append(child)\n",
    "\n",
    "    # Perform mutation\n",
    "    for child in children:\n",
    "        if np.random.rand() < mutation_chance:\n",
    "            mutation_point = np.random.randint(0, len(child))\n",
    "            child[mutation_point] = 1 - child[mutation_point]\n",
    "\n",
    "    # Combine parents and children to form the new population\n",
    "    parents.extend(children)\n",
    "    return parents\n",
    "\n",
    "# Evolve the population\n",
    "for generation_id in range(1, MAX_NO_OF_GENERATIONS+1):\n",
    "    POPULATION.sort(key=lambda x: fitness(x, ITEMS, KNAPSACK_CAPACITY), reverse=True)\n",
    "    total_fitness = sum(fitness(chromosome, ITEMS, KNAPSACK_CAPACITY) for chromosome in POPULATION)\n",
    "    print(f\"Generation {generation_id:3d}, total fitness: {total_fitness:4d}\", end=\", \")\n",
    "\n",
    "    POPULATION = evolve_population(POPULATION)\n",
    "    POPULATION.sort(key=lambda x: fitness(x, ITEMS, KNAPSACK_CAPACITY), reverse=True)\n",
    "    print(f\"best solution: {''.join(map(lambda x: str(x), POPULATION[0]))}\", end=\", \")\n",
    "    print(f\"fitness: {fitness(POPULATION[0], ITEMS, KNAPSACK_CAPACITY):3d}\")"
   ]
  }
 ],
 "metadata": {
  "kernelspec": {
   "display_name": ".venv",
   "language": "python",
   "name": "python3"
  },
  "language_info": {
   "codemirror_mode": {
    "name": "ipython",
    "version": 3
   },
   "file_extension": ".py",
   "mimetype": "text/x-python",
   "name": "python",
   "nbconvert_exporter": "python",
   "pygments_lexer": "ipython3",
   "version": "3.11.6"
  }
 },
 "nbformat": 4,
 "nbformat_minor": 2
}
