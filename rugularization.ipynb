{
 "cells": [
  {
   "cell_type": "code",
   "execution_count": 1,
   "metadata": {},
   "outputs": [],
   "source": [
    "import pandas as pd\n",
    "import numpy as np\n",
    "from sklearn.linear_model import LinearRegression, Ridge, Lasso\n",
    "from sklearn.model_selection import train_test_split, cross_val_score\n",
    "from statistics import mean"
   ]
  },
  {
   "cell_type": "code",
   "execution_count": 2,
   "metadata": {},
   "outputs": [],
   "source": [
    "# load data\n",
    "data = pd.read_csv(\"kaggle/king_county_house_data_NaN.csv\")\n",
    "data.dropna(inplace=True)\n",
    "data.drop([\"id\", \"date\", \"sqft_above\", \"zipcode\"], axis=1, inplace=True)\n",
    "\n",
    "y = data[\"price\"]\n",
    "X = data.drop(\"price\", axis=1)"
   ]
  },
  {
   "cell_type": "code",
   "execution_count": 3,
   "metadata": {},
   "outputs": [],
   "source": [
    "# divide data into training and test sets\n",
    "random_state = np.random.RandomState(0)\n",
    "X_train, X_test, y_train, y_test = train_test_split(X, y, test_size=0.5, random_state=random_state)"
   ]
  },
  {
   "cell_type": "code",
   "execution_count": 4,
   "metadata": {},
   "outputs": [
    {
     "name": "stdout",
     "output_type": "stream",
     "text": [
      "Linear regression without regularization scored: 0.709209 \n"
     ]
    }
   ],
   "source": [
    "# develop a linear regression model\n",
    "reg = LinearRegression().fit(X_train, y_train)\n",
    "print(\"Linear regression without regularization scored: %f \" % reg.score(X_test, y_test))"
   ]
  },
  {
   "cell_type": "code",
   "execution_count": 5,
   "metadata": {},
   "outputs": [
    {
     "name": "stdout",
     "output_type": "stream",
     "text": [
      "Ridge(2.75) scored: 0.709110\n"
     ]
    }
   ],
   "source": [
    "# develop a ridge regression model\n",
    "alpha = []\n",
    "cross_val_scores_ridge = []\n",
    "for i in range(1, 20):\n",
    "    alpha.append(i*0.25)\n",
    "    ridge = Ridge(alpha=i*0.25).fit(X_train, y_train)\n",
    "    cross_val_scores_ridge.append(mean(cross_val_score(ridge, X, y, cv=10)))\n",
    "\n",
    "results = pd.DataFrame({\"alpha\": alpha, \"score\": cross_val_scores_ridge})\n",
    "best_alpha = results[results[\"score\"] == results[\"score\"].max()][\"alpha\"].values[0]\n",
    "ridge = Ridge(alpha=best_alpha).fit(X_train, y_train)\n",
    "print(\"Ridge(%.2f) scored: %f\" % (best_alpha, ridge.score(X_test, y_test)))"
   ]
  },
  {
   "cell_type": "code",
   "execution_count": 6,
   "metadata": {},
   "outputs": [
    {
     "name": "stdout",
     "output_type": "stream",
     "text": [
      "Lasso(8.50) scored: 0.709207\n"
     ]
    }
   ],
   "source": [
    "# develop a lasso regression model\n",
    "alpha = []\n",
    "cross_val_scores_lasso = []\n",
    "for i in range(25, 35):\n",
    "    alpha.append(i*0.25)\n",
    "    lasso = Lasso(alpha=i*0.25).fit(X_train, y_train)\n",
    "    cross_val_scores_lasso.append(mean(cross_val_score(lasso, X, y, cv=10)))\n",
    "\n",
    "results = pd.DataFrame({\"alpha\": alpha, \"score\": cross_val_scores_lasso})\n",
    "best_alpha = results[results[\"score\"] == results[\"score\"].max()][\"alpha\"].values[0]\n",
    "lasso = Lasso(alpha=best_alpha).fit(X_train, y_train)\n",
    "print(\"Lasso(%.2f) scored: %f\" % (best_alpha, lasso.score(X_test, y_test)))"
   ]
  }
 ],
 "metadata": {
  "kernelspec": {
   "display_name": ".venv",
   "language": "python",
   "name": "python3"
  },
  "language_info": {
   "codemirror_mode": {
    "name": "ipython",
    "version": 3
   },
   "file_extension": ".py",
   "mimetype": "text/x-python",
   "name": "python",
   "nbconvert_exporter": "python",
   "pygments_lexer": "ipython3",
   "version": "3.11.6"
  }
 },
 "nbformat": 4,
 "nbformat_minor": 2
}
